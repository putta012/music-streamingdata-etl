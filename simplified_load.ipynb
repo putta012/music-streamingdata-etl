{
 "cells": [
  {
   "cell_type": "code",
   "execution_count": 4,
   "id": "e34b00ea-9f5c-4b93-ac16-b2dc1f511bba",
   "metadata": {},
   "outputs": [
    {
     "name": "stdout",
     "output_type": "stream",
     "text": [
      "Data loaded into process2_raw_table table successfully\n"
     ]
    }
   ],
   "source": [
    "import pandas as pd\n",
    "from sqlalchemy import create_engine\n",
    "\n",
    "def load_csv_to_mysql(csv_path, table_name, connection_string):\n",
    "    engine = create_engine(connection_string)\n",
    "    df = pd.read_csv(csv_path, encoding='Latin')\n",
    "    with engine.connect() as conn:\n",
    "        df.to_sql(table_name, conn, if_exists='replace', index=False)\n",
    "    print(f\"Data loaded into {table_name} table successfully\")\n",
    "\n",
    "# Example usage\n",
    "csv_path = '/Users/mamathaputta/Documents/selfGrowth/Acedemic/projects/py sql tableau/data/spotify-2023.csv'\n",
    "table_name = 'process2_raw_table'\n",
    "connection_string = 'mysql+mysqlconnector://root:@127.0.0.1:3306/music'\n",
    "\n",
    "load_csv_to_mysql(csv_path, table_name, connection_string)\n"
   ]
  },
  {
   "cell_type": "code",
   "execution_count": null,
   "id": "ff672e87-6bc5-40c1-a311-3dc2c33d03ad",
   "metadata": {},
   "outputs": [],
   "source": []
  }
 ],
 "metadata": {
  "kernelspec": {
   "display_name": "Python 3 (ipykernel)",
   "language": "python",
   "name": "python3"
  },
  "language_info": {
   "codemirror_mode": {
    "name": "ipython",
    "version": 3
   },
   "file_extension": ".py",
   "mimetype": "text/x-python",
   "name": "python",
   "nbconvert_exporter": "python",
   "pygments_lexer": "ipython3",
   "version": "3.12.4"
  }
 },
 "nbformat": 4,
 "nbformat_minor": 5
}
